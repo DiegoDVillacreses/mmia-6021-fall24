{
 "cells": [
  {
   "cell_type": "markdown",
   "metadata": {},
   "source": [
    "# Lab1: code a Chatbot from scratch using only re library and base Python\n",
    "When a greeting is recognized, start the conversation:\n",
    "* You’ll give 2 options that the user can ask you about the weather or the stock market\n",
    "* You’ll reply and ask if they have a follow\n",
    "* A user can ask up to 2 questions\n",
    "* You’ll dismiss the user with a greeting\n",
    "\n",
    "Written by:\n",
    "* Diego Villacreses\n",
    "* 27 agosto 2024"
   ]
  },
  {
   "cell_type": "code",
   "execution_count": 41,
   "metadata": {},
   "outputs": [
    {
     "name": "stdout",
     "output_type": "stream",
     "text": [
      "That is not a valid greeting, you have 2 more tries.\n",
      "The stock market is bearing!\n",
      "That is not a valid question. You have used all your question tries.\n",
      "Thank you for using 6021 ChatBot. See you later!\n"
     ]
    }
   ],
   "source": [
    "# Based on: https://docs.python.org/3/howto/regex.html\n",
    "import re\n",
    "\n",
    "valid_greetings = re.compile('hello|hi')\n",
    "valid_stock = re.compile('stock|market|stock market|stock markets')\n",
    "valid_weather = re.compile('weather|climate')\n",
    "valid_q1_2 = re.compile('yes')\n",
    "\n",
    "n_try_greetings = 3\n",
    "while n_try_greetings > 0:\n",
    "    greeting_input = input('Hello?')\n",
    "    greeting_input = greeting_input.lower() \n",
    "    # We make sure our chatbot is not case-sensitive for more general functionality\n",
    "    validation_1 = valid_greetings.match(greeting_input)\n",
    "    if validation_1:\n",
    "        q1_input = input('Do you need information about weather or the stock market?').lower()\n",
    "        if valid_stock.match(q1_input):\n",
    "            print('The stock market is bearing!')\n",
    "        elif valid_weather.match(q1_input):\n",
    "            print('The day is going to be sunny!')\n",
    "        else:\n",
    "            print('That is not a valid question.')\n",
    "            q1_2_input = input('Do you have more questions? You have one more question.').lower()\n",
    "            if valid_q1_2.match(q1_2_input):\n",
    "                q1_2_input = input('Do you need information about weather or the stock market?').lower()\n",
    "            else:\n",
    "                print('Thank you for using 6021 ChatBot. See you later!')\n",
    "                n_try_greetings = 0\n",
    "        if n_try_greetings > 0:\n",
    "            q1_2_input = input('Do you have more questions? You have one more question.').lower()\n",
    "            if valid_q1_2.match(q1_2_input):\n",
    "                q1_2_input = input('Do you need information about weather or the stock market?').lower()\n",
    "                if valid_stock.match(q1_2_input):\n",
    "                    print('The stock market is bearing!')\n",
    "                elif valid_weather.match(q1_2_input):\n",
    "                    print('The day is going to be sunny!')\n",
    "                else:\n",
    "                    print('That is not a valid question. You have used all your question tries.')\n",
    "            print('Thank you for using 6021 ChatBot. See you later!')\n",
    "            n_try_greetings = 0\n",
    "    else:\n",
    "        n_try_greetings -= 1\n",
    "        if n_try_greetings > 1:\n",
    "            try_word = 'tries'\n",
    "        elif n_try_greetings == 1:\n",
    "            try_word = 'try'\n",
    "        else:\n",
    "            print(\"You have not provided a proper greeting. Please try again later.\")\n",
    "            break\n",
    "\n",
    "        print(f'That is not a valid greeting, you have {n_try_greetings} more {try_word}.')\n"
   ]
  }
 ],
 "metadata": {
  "kernelspec": {
   "display_name": "base",
   "language": "python",
   "name": "python3"
  },
  "language_info": {
   "codemirror_mode": {
    "name": "ipython",
    "version": 3
   },
   "file_extension": ".py",
   "mimetype": "text/x-python",
   "name": "python",
   "nbconvert_exporter": "python",
   "pygments_lexer": "ipython3",
   "version": "3.12.2"
  }
 },
 "nbformat": 4,
 "nbformat_minor": 2
}
